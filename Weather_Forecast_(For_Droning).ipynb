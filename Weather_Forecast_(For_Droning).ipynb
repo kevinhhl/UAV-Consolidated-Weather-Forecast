{
  "nbformat": 4,
  "nbformat_minor": 0,
  "metadata": {
    "colab": {
      "provenance": [],
      "collapsed_sections": []
    },
    "kernelspec": {
      "name": "python3",
      "display_name": "Python 3"
    },
    "language_info": {
      "name": "python"
    }
  },
  "cells": [
    {
      "cell_type": "markdown",
      "source": [
        "#**Configurations**\n",
        "This is where all configs will be set before the script makes an API call [via openmeteo] to collect weather data."
      ],
      "metadata": {
        "id": "qZzuWsOMUzKZ"
      }
    },
    {
      "cell_type": "code",
      "source": [
        "locations = {\\\n",
        "            #  \"22.28185990473875, 114.18903700821926\" : \"Victoria Park\",\\\n",
        "             \"22.27054210988102, 114.00032030347596\" : \"Mui Wo\",\\\n",
        "             \"22.540797536909047, 114.43437970480949\" : \"Tung Ping Chau\",\\\n",
        "             \"22.468108498629288, 114.36264537675595\" : \"Tap Mun\",\\\n",
        "            #  \"22.23398579735171, 114.15930196830752\" : \"Ap Lei Chau Sandbar\"\\\n",
        "             }\n",
        "\n",
        "MAX_WIND_kph     =37.8    # [DJI Mini SE] wind resistance of up to 37.8 km/h\n",
        "MAX_PRECIP_mm    =0\n",
        "MAX_CLOUDS_pcnt  =50"
      ],
      "metadata": {
        "id": "HZlFBgLDRGwv"
      },
      "execution_count": 88,
      "outputs": []
    },
    {
      "cell_type": "markdown",
      "source": [
        "#**Processing of raw data**"
      ],
      "metadata": {
        "id": "KngvzT1eU1Jh"
      }
    },
    {
      "cell_type": "code",
      "source": [
        "from urllib.request import urlopen, Request\n",
        "import json\n",
        "import pandas as pd\n",
        "import datetime\n",
        "import pytz"
      ],
      "metadata": {
        "id": "7ZlVXjVOROF9"
      },
      "execution_count": 89,
      "outputs": []
    },
    {
      "cell_type": "code",
      "source": [
        "def get_df(latlong, name, maxwind_kph=37.8, maxprecip_mm=0, maxclouds_pcnt=100):\n",
        "  # Construct URL\n",
        "  gps_loc = latlong.split(\",\")\n",
        "  latitude = str(round(float(gps_loc[0].strip()),4))\n",
        "  longitude = str(round(float(gps_loc[1].strip()),4))\n",
        "  url = 'https://api.open-meteo.com/v1/forecast?latitude=' + latitude + '&longitude=' + longitude +'&hourly=precipitation,cloudcover,windgusts_10m&timezone=auto'\n",
        "  print(url)\n",
        "  print(\"Weather Forecast: {} \\nGPS: {}\".format(name, latlong))\n",
        "\n",
        "  # Retrieve data\n",
        "  request = Request(url)\n",
        "  response = urlopen(request)\n",
        "  forecast = response.read()\n",
        "  data = json.loads(forecast)\n",
        "  df_json = pd.json_normalize(data)\n",
        "\n",
        "  list_gust = df_json[\"hourly.windgusts_10m\"][0]\n",
        "  list_time = df_json[\"hourly.time\"][0]\n",
        "  list_precip = df_json[\"hourly.precipitation\"][0]\n",
        "  list_cloud = df_json[\"hourly.cloudcover\"][0]\n",
        "  assert len(list_gust) == len(list_time) and len(list_time) == len(list_precip) and len(list_precip) == len(list_cloud)\n",
        "\n",
        "  # Init. custom DF\n",
        "  timezone = df_json['timezone'][0]\n",
        "  COL_TIME = \"Datetime (\" + timezone + \")\"\n",
        "  COL_GUST = \"Gust (\" + df_json['hourly_units.windgusts_10m'][0] + \")\"\n",
        "  COL_PRECIP = \"Precip. (\" + df_json['hourly_units.precipitation'][0] + \")\"\n",
        "  COL_CLOUD = \"Cloud Cover (\" + df_json['hourly_units.cloudcover'][0] + \")\"\n",
        "  df_custom = pd.DataFrame({COL_TIME : list_time, \\\n",
        "                            COL_GUST : list_gust, \\\n",
        "                            COL_PRECIP : list_precip, \\\n",
        "                            COL_CLOUD : list_cloud})\n",
        "\n",
        "  # Constructing datetime filter\n",
        "  tz = df_json[\"timezone\"][0]\n",
        "  datetimenow = datetime.datetime.now(pytz.timezone(tz))\n",
        "  datefilter = []\n",
        "  dayofweek = []\n",
        "  for s in list_time:\n",
        "    substr1 = s.split('-')\n",
        "    yyyy, mm = int(substr1[0]), int(substr1[1])\n",
        "    substr2 = substr1[2].split('T')\n",
        "    dd, hh = int(substr2[0]), int(substr2[1].split(':')[0])\n",
        "    is_daytime = hh < 18 and hh > 6\n",
        "    datefilter.append(dd >= datetimenow.day and mm >= datetimenow.month and yyyy >= datetimenow.year and is_daytime)\n",
        "    dayofweek.append(datetime.date(yyyy,mm,dd).strftime('%A'))\n",
        "\n",
        "  df_custom[\"Day\"] = dayofweek\n",
        "  df_custom[\"Date Filter\"] = datefilter\n",
        "\n",
        "  # Filter: Gust & Precip. & Datetime\n",
        "  df_custom_filtered = df_custom[(df_custom[COL_GUST] <= maxwind_kph)\\\n",
        "                                 & (df_custom[COL_PRECIP] <= maxprecip_mm)\\\n",
        "                                 & (df_custom[COL_CLOUD] <= maxclouds_pcnt)\\\n",
        "                                 & (df_custom[\"Date Filter\"])\\\n",
        "                                 ].drop(columns=[\"Date Filter\", COL_PRECIP]) \n",
        "  \n",
        "  # Verbose\n",
        "  print(\"Report generated on: \" + datetimenow.strftime(\"%A %d. %B %Y\"))\n",
        "  print('{}\\t{}\\t{}\\t{}'.format(COL_TIME, df_custom_filtered.columns[1], df_custom_filtered.columns[2], df_custom_filtered.columns[3]))\n",
        "  for index, row in df_custom_filtered.iterrows():\n",
        "    for e in row:\n",
        "      print(e, end=\"\\t\\t\")\n",
        "    print('')\n",
        "  print('\\n')\n",
        "\n",
        "  return df_custom_filtered \n",
        "  "
      ],
      "metadata": {
        "id": "ejo6T7JZaHIo"
      },
      "execution_count": 90,
      "outputs": []
    },
    {
      "cell_type": "markdown",
      "source": [
        "# **Output**"
      ],
      "metadata": {
        "id": "y98XnZNbVNTr"
      }
    },
    {
      "cell_type": "code",
      "source": [
        "# Reporting:\n",
        "for key in locations:\n",
        "  name = locations[key].split(\";\")  # TODO: parse optional arguments, ie. suffix -> ;67 -> filter out only Saturday and Sunday rows.\n",
        "  df = get_df(key, name[0], MAX_WIND_kph, MAX_PRECIP_mm, MAX_CLOUDS_pcnt)\n"
      ],
      "metadata": {
        "id": "5_AynAiaG_il",
        "colab": {
          "base_uri": "https://localhost:8080/"
        },
        "outputId": "afd51c13-a0c9-44ae-d5e4-1ae04b97b1ca"
      },
      "execution_count": 91,
      "outputs": [
        {
          "output_type": "stream",
          "name": "stdout",
          "text": [
            "https://api.open-meteo.com/v1/forecast?latitude=22.2705&longitude=114.0003&hourly=precipitation,cloudcover,windgusts_10m&timezone=auto\n",
            "Weather Forecast: Mui Wo \n",
            "GPS: 22.27054210988102, 114.00032030347596\n",
            "Report generated on: Tuesday 25. October 2022\n",
            "Datetime (Asia/Hong_Kong)\tGust (km/h)\tCloud Cover (%)\tDay\n",
            "2022-10-26T07:00\t\t37.1\t\t20\t\tWednesday\t\t\n",
            "2022-10-26T17:00\t\t37.1\t\t5\t\tWednesday\t\t\n",
            "2022-10-27T07:00\t\t30.2\t\t33\t\tThursday\t\t\n",
            "2022-10-27T08:00\t\t34.2\t\t31\t\tThursday\t\t\n",
            "2022-10-27T16:00\t\t37.8\t\t0\t\tThursday\t\t\n",
            "2022-10-27T17:00\t\t34.6\t\t0\t\tThursday\t\t\n",
            "2022-10-28T07:00\t\t25.6\t\t38\t\tFriday\t\t\n",
            "2022-10-28T08:00\t\t19.8\t\t27\t\tFriday\t\t\n",
            "2022-10-28T09:00\t\t19.8\t\t8\t\tFriday\t\t\n",
            "2022-10-28T10:00\t\t18.7\t\t0\t\tFriday\t\t\n",
            "2022-10-28T11:00\t\t20.9\t\t10\t\tFriday\t\t\n",
            "2022-10-28T12:00\t\t25.2\t\t22\t\tFriday\t\t\n",
            "2022-10-28T13:00\t\t28.1\t\t3\t\tFriday\t\t\n",
            "2022-10-28T14:00\t\t27.7\t\t6\t\tFriday\t\t\n",
            "2022-10-28T15:00\t\t26.3\t\t15\t\tFriday\t\t\n",
            "2022-10-28T16:00\t\t24.5\t\t23\t\tFriday\t\t\n",
            "2022-10-28T17:00\t\t23.0\t\t32\t\tFriday\t\t\n",
            "2022-10-29T07:00\t\t20.5\t\t3\t\tSaturday\t\t\n",
            "2022-10-29T08:00\t\t22.3\t\t0\t\tSaturday\t\t\n",
            "2022-10-29T09:00\t\t28.1\t\t0\t\tSaturday\t\t\n",
            "2022-10-29T10:00\t\t33.8\t\t0\t\tSaturday\t\t\n",
            "2022-10-29T13:00\t\t37.8\t\t11\t\tSaturday\t\t\n",
            "2022-10-29T14:00\t\t36.7\t\t16\t\tSaturday\t\t\n",
            "2022-10-29T15:00\t\t35.6\t\t24\t\tSaturday\t\t\n",
            "2022-10-29T16:00\t\t34.6\t\t32\t\tSaturday\t\t\n",
            "2022-10-29T17:00\t\t33.5\t\t40\t\tSaturday\t\t\n",
            "2022-10-30T07:00\t\t33.8\t\t0\t\tSunday\t\t\n",
            "2022-10-30T08:00\t\t33.8\t\t0\t\tSunday\t\t\n",
            "2022-10-30T09:00\t\t36.7\t\t0\t\tSunday\t\t\n",
            "2022-10-30T17:00\t\t37.8\t\t0\t\tSunday\t\t\n",
            "2022-10-31T07:00\t\t34.9\t\t1\t\tMonday\t\t\n",
            "2022-10-31T08:00\t\t36.0\t\t0\t\tMonday\t\t\n",
            "\n",
            "\n",
            "https://api.open-meteo.com/v1/forecast?latitude=22.5408&longitude=114.4344&hourly=precipitation,cloudcover,windgusts_10m&timezone=auto\n",
            "Weather Forecast: Tung Ping Chau \n",
            "GPS: 22.540797536909047, 114.43437970480949\n",
            "Report generated on: Tuesday 25. October 2022\n",
            "Datetime (Asia/Hong_Kong)\tGust (km/h)\tCloud Cover (%)\tDay\n",
            "2022-10-25T08:00\t\t29.9\t\t43\t\tTuesday\t\t\n",
            "2022-10-25T09:00\t\t33.5\t\t45\t\tTuesday\t\t\n",
            "2022-10-26T07:00\t\t37.8\t\t0\t\tWednesday\t\t\n",
            "2022-10-26T08:00\t\t36.7\t\t0\t\tWednesday\t\t\n",
            "2022-10-26T15:00\t\t37.1\t\t0\t\tWednesday\t\t\n",
            "2022-10-26T16:00\t\t35.6\t\t0\t\tWednesday\t\t\n",
            "2022-10-26T17:00\t\t33.5\t\t0\t\tWednesday\t\t\n",
            "2022-10-27T07:00\t\t31.7\t\t2\t\tThursday\t\t\n",
            "2022-10-27T08:00\t\t29.9\t\t7\t\tThursday\t\t\n",
            "2022-10-27T09:00\t\t31.3\t\t5\t\tThursday\t\t\n",
            "2022-10-27T10:00\t\t35.3\t\t1\t\tThursday\t\t\n",
            "2022-10-27T11:00\t\t37.8\t\t0\t\tThursday\t\t\n",
            "2022-10-27T12:00\t\t37.8\t\t0\t\tThursday\t\t\n",
            "2022-10-27T13:00\t\t36.4\t\t0\t\tThursday\t\t\n",
            "2022-10-27T14:00\t\t33.5\t\t0\t\tThursday\t\t\n",
            "2022-10-27T15:00\t\t30.2\t\t0\t\tThursday\t\t\n",
            "2022-10-27T16:00\t\t27.4\t\t12\t\tThursday\t\t\n",
            "2022-10-27T17:00\t\t27.0\t\t10\t\tThursday\t\t\n",
            "2022-10-28T07:00\t\t19.1\t\t0\t\tFriday\t\t\n",
            "2022-10-28T08:00\t\t17.3\t\t0\t\tFriday\t\t\n",
            "2022-10-28T09:00\t\t18.4\t\t0\t\tFriday\t\t\n",
            "2022-10-28T10:00\t\t18.4\t\t0\t\tFriday\t\t\n",
            "2022-10-28T11:00\t\t16.6\t\t6\t\tFriday\t\t\n",
            "2022-10-28T12:00\t\t20.2\t\t25\t\tFriday\t\t\n",
            "2022-10-28T13:00\t\t22.3\t\t38\t\tFriday\t\t\n",
            "2022-10-28T14:00\t\t22.3\t\t44\t\tFriday\t\t\n",
            "2022-10-28T15:00\t\t23.8\t\t43\t\tFriday\t\t\n",
            "2022-10-28T16:00\t\t25.2\t\t42\t\tFriday\t\t\n",
            "2022-10-28T17:00\t\t26.6\t\t41\t\tFriday\t\t\n",
            "2022-10-29T07:00\t\t25.2\t\t0\t\tSaturday\t\t\n",
            "2022-10-29T08:00\t\t27.7\t\t0\t\tSaturday\t\t\n",
            "2022-10-29T09:00\t\t32.0\t\t0\t\tSaturday\t\t\n",
            "2022-10-29T10:00\t\t36.0\t\t0\t\tSaturday\t\t\n",
            "2022-10-29T15:00\t\t37.8\t\t36\t\tSaturday\t\t\n",
            "2022-10-29T16:00\t\t37.8\t\t39\t\tSaturday\t\t\n",
            "2022-10-29T17:00\t\t37.4\t\t43\t\tSaturday\t\t\n",
            "2022-10-30T07:00\t\t34.9\t\t2\t\tSunday\t\t\n",
            "2022-10-30T08:00\t\t35.6\t\t3\t\tSunday\t\t\n",
            "\n",
            "\n",
            "https://api.open-meteo.com/v1/forecast?latitude=22.4681&longitude=114.3626&hourly=precipitation,cloudcover,windgusts_10m&timezone=auto\n",
            "Weather Forecast: Tap Mun \n",
            "GPS: 22.468108498629288, 114.36264537675595\n",
            "Report generated on: Tuesday 25. October 2022\n",
            "Datetime (Asia/Hong_Kong)\tGust (km/h)\tCloud Cover (%)\tDay\n",
            "2022-10-25T08:00\t\t29.9\t\t43\t\tTuesday\t\t\n",
            "2022-10-25T09:00\t\t33.5\t\t45\t\tTuesday\t\t\n",
            "2022-10-26T07:00\t\t37.8\t\t0\t\tWednesday\t\t\n",
            "2022-10-26T08:00\t\t36.7\t\t0\t\tWednesday\t\t\n",
            "2022-10-26T15:00\t\t37.1\t\t0\t\tWednesday\t\t\n",
            "2022-10-26T16:00\t\t35.6\t\t0\t\tWednesday\t\t\n",
            "2022-10-26T17:00\t\t33.5\t\t0\t\tWednesday\t\t\n",
            "2022-10-27T07:00\t\t31.7\t\t2\t\tThursday\t\t\n",
            "2022-10-27T08:00\t\t29.9\t\t7\t\tThursday\t\t\n",
            "2022-10-27T09:00\t\t31.3\t\t5\t\tThursday\t\t\n",
            "2022-10-27T10:00\t\t35.3\t\t1\t\tThursday\t\t\n",
            "2022-10-27T11:00\t\t37.8\t\t0\t\tThursday\t\t\n",
            "2022-10-27T12:00\t\t37.8\t\t0\t\tThursday\t\t\n",
            "2022-10-27T13:00\t\t36.4\t\t0\t\tThursday\t\t\n",
            "2022-10-27T14:00\t\t33.5\t\t0\t\tThursday\t\t\n",
            "2022-10-27T15:00\t\t30.2\t\t0\t\tThursday\t\t\n",
            "2022-10-27T16:00\t\t27.4\t\t12\t\tThursday\t\t\n",
            "2022-10-27T17:00\t\t27.0\t\t10\t\tThursday\t\t\n",
            "2022-10-28T07:00\t\t19.1\t\t0\t\tFriday\t\t\n",
            "2022-10-28T08:00\t\t17.3\t\t0\t\tFriday\t\t\n",
            "2022-10-28T09:00\t\t18.4\t\t0\t\tFriday\t\t\n",
            "2022-10-28T10:00\t\t18.4\t\t0\t\tFriday\t\t\n",
            "2022-10-28T11:00\t\t16.6\t\t6\t\tFriday\t\t\n",
            "2022-10-28T12:00\t\t20.2\t\t25\t\tFriday\t\t\n",
            "2022-10-28T13:00\t\t22.3\t\t38\t\tFriday\t\t\n",
            "2022-10-28T14:00\t\t22.3\t\t44\t\tFriday\t\t\n",
            "2022-10-28T15:00\t\t23.8\t\t43\t\tFriday\t\t\n",
            "2022-10-28T16:00\t\t25.2\t\t42\t\tFriday\t\t\n",
            "2022-10-28T17:00\t\t26.6\t\t41\t\tFriday\t\t\n",
            "2022-10-29T07:00\t\t25.2\t\t0\t\tSaturday\t\t\n",
            "2022-10-29T08:00\t\t27.7\t\t0\t\tSaturday\t\t\n",
            "2022-10-29T09:00\t\t32.0\t\t0\t\tSaturday\t\t\n",
            "2022-10-29T10:00\t\t36.0\t\t0\t\tSaturday\t\t\n",
            "2022-10-29T15:00\t\t37.8\t\t36\t\tSaturday\t\t\n",
            "2022-10-29T16:00\t\t37.8\t\t39\t\tSaturday\t\t\n",
            "2022-10-29T17:00\t\t37.4\t\t43\t\tSaturday\t\t\n",
            "2022-10-30T07:00\t\t34.9\t\t2\t\tSunday\t\t\n",
            "2022-10-30T08:00\t\t35.6\t\t3\t\tSunday\t\t\n",
            "\n",
            "\n"
          ]
        }
      ]
    }
  ]
}