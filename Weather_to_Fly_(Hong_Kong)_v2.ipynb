{
  "cells": [
    {
      "cell_type": "code",
      "execution_count": 34,
      "metadata": {
        "id": "7ZlVXjVOROF9"
      },
      "outputs": [],
      "source": [
        "import collections\n",
        "from urllib.request import urlopen, Request\n",
        "import json\n",
        "import pandas as pd\n",
        "import datetime\n",
        "# import pytz"
      ]
    },
    {
      "cell_type": "code",
      "execution_count": 20,
      "metadata": {
        "id": "HZlFBgLDRGwv"
      },
      "outputs": [],
      "source": [
        "locations = {\n",
        "\n",
        "    \"22.258351741017634, 114.21163275365531\" : \"Tai Tam Reservoir\" ,\n",
        "    \"22.27054210988102, 114.00032030347596\"  : \"Mui Wo\",\n",
        "    \"22.540797536909047, 114.43437970480949\" : \"Tung Ping Chau\",\n",
        "    \"22.29770991812577, 114.30310328185212\" : \"Clear Water Bay\",\n",
        "    \"22.239390991398583, 114.24173429924463\" : \"Dragon's Back\",\n",
        "    \"22.23398579735171, 114.15930196830752\" : \"Ap Lei Chau\",\n",
        "    \"22.28617189441449, 114.04065619628331\" : \"Peng Chau\"\n",
        "\n",
        "}\n",
        "\n",
        "locations = collections.OrderedDict(sorted(locations.items()))"
      ]
    },
    {
      "cell_type": "code",
      "execution_count": 32,
      "metadata": {},
      "outputs": [],
      "source": [
        "loc_name_gps = {} # reverse lookup\n",
        "for k, v in locations.items():\n",
        "    loc_name_gps[v] = k"
      ]
    },
    {
      "cell_type": "code",
      "execution_count": 25,
      "metadata": {
        "id": "ejo6T7JZaHIo"
      },
      "outputs": [],
      "source": [
        "def get_weather_df(latlong):\n",
        "  # Construct URL\n",
        "  _gps_loc = latlong.split(\",\")\n",
        "  latitude = str(round(float(_gps_loc[0].strip()),4))\n",
        "  longitude = str(round(float(_gps_loc[1].strip()),4))\n",
        "\n",
        "  # API call\n",
        "  # Params. Ref : https://open-meteo.com/en/docs/#latitude=22.2787&longitude=114.1815&hourly=temperature_2m\n",
        "  _params = 'precipitation,cloudcover,windgusts_10m,temperature_2m'\n",
        "  url = 'https://api.open-meteo.com/v1/forecast?latitude=' + latitude + '&longitude=' \\\n",
        "    + longitude +'&hourly={}&timezone=auto'.format(_params)\n",
        "\n",
        "  # Retrieve data\n",
        "  request = Request(url) # <class 'urllib.request.Request'>\n",
        "  response = urlopen(request) # <class 'http.client.HTTPResponse'>\n",
        "  forecast = response.read() # <class 'bytes'>\n",
        "  data = json.loads(forecast) # <class 'dic t'>\n",
        "  df_json = pd.json_normalize(data) # <class 'pandas.core.frame.DataFrame'>\n",
        "  \n",
        "  return df_json\n",
        "  "
      ]
    },
    {
      "cell_type": "markdown",
      "metadata": {},
      "source": [
        "# Get Forecast - Single Location"
      ]
    },
    {
      "cell_type": "code",
      "execution_count": 28,
      "metadata": {},
      "outputs": [
        {
          "name": "stdout",
          "output_type": "stream",
          "text": [
            "Before applying filter\n"
          ]
        },
        {
          "data": {
            "text/html": [
              "<div>\n",
              "<style scoped>\n",
              "    .dataframe tbody tr th:only-of-type {\n",
              "        vertical-align: middle;\n",
              "    }\n",
              "\n",
              "    .dataframe tbody tr th {\n",
              "        vertical-align: top;\n",
              "    }\n",
              "\n",
              "    .dataframe thead th {\n",
              "        text-align: right;\n",
              "    }\n",
              "</style>\n",
              "<table border=\"1\" class=\"dataframe\">\n",
              "  <thead>\n",
              "    <tr style=\"text-align: right;\">\n",
              "      <th></th>\n",
              "      <th>time</th>\n",
              "      <th>precipitation</th>\n",
              "      <th>cloudcover</th>\n",
              "      <th>windgusts_10m</th>\n",
              "      <th>temperature_2m</th>\n",
              "    </tr>\n",
              "  </thead>\n",
              "  <tbody>\n",
              "    <tr>\n",
              "      <th>0</th>\n",
              "      <td>2024-01-25T00:00</td>\n",
              "      <td>0.0</td>\n",
              "      <td>72</td>\n",
              "      <td>22.7</td>\n",
              "      <td>8.6</td>\n",
              "    </tr>\n",
              "    <tr>\n",
              "      <th>1</th>\n",
              "      <td>2024-01-25T01:00</td>\n",
              "      <td>0.0</td>\n",
              "      <td>67</td>\n",
              "      <td>22.7</td>\n",
              "      <td>8.4</td>\n",
              "    </tr>\n",
              "    <tr>\n",
              "      <th>2</th>\n",
              "      <td>2024-01-25T02:00</td>\n",
              "      <td>0.0</td>\n",
              "      <td>86</td>\n",
              "      <td>22.3</td>\n",
              "      <td>8.6</td>\n",
              "    </tr>\n",
              "    <tr>\n",
              "      <th>3</th>\n",
              "      <td>2024-01-25T03:00</td>\n",
              "      <td>0.0</td>\n",
              "      <td>95</td>\n",
              "      <td>23.0</td>\n",
              "      <td>8.6</td>\n",
              "    </tr>\n",
              "    <tr>\n",
              "      <th>4</th>\n",
              "      <td>2024-01-25T04:00</td>\n",
              "      <td>0.0</td>\n",
              "      <td>95</td>\n",
              "      <td>22.7</td>\n",
              "      <td>8.7</td>\n",
              "    </tr>\n",
              "  </tbody>\n",
              "</table>\n",
              "</div>"
            ],
            "text/plain": [
              "               time  precipitation  cloudcover  windgusts_10m  temperature_2m\n",
              "0  2024-01-25T00:00            0.0          72           22.7             8.6\n",
              "1  2024-01-25T01:00            0.0          67           22.7             8.4\n",
              "2  2024-01-25T02:00            0.0          86           22.3             8.6\n",
              "3  2024-01-25T03:00            0.0          95           23.0             8.6\n",
              "4  2024-01-25T04:00            0.0          95           22.7             8.7"
            ]
          },
          "execution_count": 28,
          "metadata": {},
          "output_type": "execute_result"
        }
      ],
      "source": [
        "df1 = get_weather_df(loc_name_gps[\"Peng Chau\"])\n",
        "\n",
        "# # df1[column][0]\n",
        "# for e in df1.columns:\n",
        "#     try:\n",
        "#         if e.startswith(\"hourly.\"):\n",
        "#             print(f\"{e:<30}\\tlen={len(df1[e][0]):<30}\")        \n",
        "#     except TypeError:\n",
        "#         pass\n",
        "\n",
        "# Dataframe index is time, columns are weather parameters\n",
        "df2 = pd.DataFrame()\n",
        "df2[\"time\"] = df1[\"hourly.time\"][0]\n",
        "df2[\"precipitation\"] = df1[\"hourly.precipitation\"][0]\n",
        "df2[\"cloudcover\"] = df1[\"hourly.cloudcover\"][0]\n",
        "df2[\"windgusts_10m\"] = df1[\"hourly.windgusts_10m\"][0]\n",
        "df2[\"temperature_2m\"] = df1[\"hourly.temperature_2m\"][0]\n",
        "\n",
        "print(\"Before applying filter\")\n",
        "df2.head()"
      ]
    },
    {
      "cell_type": "code",
      "execution_count": 31,
      "metadata": {},
      "outputs": [
        {
          "data": {
            "text/html": [
              "<div>\n",
              "<style scoped>\n",
              "    .dataframe tbody tr th:only-of-type {\n",
              "        vertical-align: middle;\n",
              "    }\n",
              "\n",
              "    .dataframe tbody tr th {\n",
              "        vertical-align: top;\n",
              "    }\n",
              "\n",
              "    .dataframe thead th {\n",
              "        text-align: right;\n",
              "    }\n",
              "</style>\n",
              "<table border=\"1\" class=\"dataframe\">\n",
              "  <thead>\n",
              "    <tr style=\"text-align: right;\">\n",
              "      <th></th>\n",
              "      <th>dayofweek</th>\n",
              "      <th>time</th>\n",
              "      <th>precipitation</th>\n",
              "      <th>cloudcover</th>\n",
              "      <th>windgusts_10m</th>\n",
              "      <th>temperature_2m</th>\n",
              "    </tr>\n",
              "  </thead>\n",
              "  <tbody>\n",
              "    <tr>\n",
              "      <th>0</th>\n",
              "      <td>Thursday</td>\n",
              "      <td>2024-01-25T00:00</td>\n",
              "      <td>0.0</td>\n",
              "      <td>72</td>\n",
              "      <td>22.7</td>\n",
              "      <td>8.6</td>\n",
              "    </tr>\n",
              "    <tr>\n",
              "      <th>1</th>\n",
              "      <td>Thursday</td>\n",
              "      <td>2024-01-25T01:00</td>\n",
              "      <td>0.0</td>\n",
              "      <td>67</td>\n",
              "      <td>22.7</td>\n",
              "      <td>8.4</td>\n",
              "    </tr>\n",
              "    <tr>\n",
              "      <th>2</th>\n",
              "      <td>Thursday</td>\n",
              "      <td>2024-01-25T02:00</td>\n",
              "      <td>0.0</td>\n",
              "      <td>86</td>\n",
              "      <td>22.3</td>\n",
              "      <td>8.6</td>\n",
              "    </tr>\n",
              "    <tr>\n",
              "      <th>3</th>\n",
              "      <td>Thursday</td>\n",
              "      <td>2024-01-25T03:00</td>\n",
              "      <td>0.0</td>\n",
              "      <td>95</td>\n",
              "      <td>23.0</td>\n",
              "      <td>8.6</td>\n",
              "    </tr>\n",
              "    <tr>\n",
              "      <th>4</th>\n",
              "      <td>Thursday</td>\n",
              "      <td>2024-01-25T04:00</td>\n",
              "      <td>0.0</td>\n",
              "      <td>95</td>\n",
              "      <td>22.7</td>\n",
              "      <td>8.7</td>\n",
              "    </tr>\n",
              "  </tbody>\n",
              "</table>\n",
              "</div>"
            ],
            "text/plain": [
              "  dayofweek              time  precipitation  cloudcover  windgusts_10m  \\\n",
              "0  Thursday  2024-01-25T00:00            0.0          72           22.7   \n",
              "1  Thursday  2024-01-25T01:00            0.0          67           22.7   \n",
              "2  Thursday  2024-01-25T02:00            0.0          86           22.3   \n",
              "3  Thursday  2024-01-25T03:00            0.0          95           23.0   \n",
              "4  Thursday  2024-01-25T04:00            0.0          95           22.7   \n",
              "\n",
              "   temperature_2m  \n",
              "0             8.6  \n",
              "1             8.4  \n",
              "2             8.6  \n",
              "3             8.6  \n",
              "4             8.7  "
            ]
          },
          "execution_count": 31,
          "metadata": {},
          "output_type": "execute_result"
        }
      ],
      "source": [
        "# Filers:\n",
        "MAX_PRECIP_mm = 0\n",
        "MAX_CLOUDS_pcnt = 100\n",
        "MAX_WIND_kph = 35\n",
        "\n",
        "# Masks for filtering\n",
        "mask_precip = df2[\"precipitation\"] <= MAX_PRECIP_mm\n",
        "mask_clouds = df2[\"cloudcover\"] <= MAX_CLOUDS_pcnt\n",
        "mask_wind = df2[\"windgusts_10m\"] <= MAX_WIND_kph\n",
        "\n",
        "df3 = df2[mask_precip & mask_clouds & mask_wind]\n",
        "\n",
        "# Insert column for day of week using  datetime.date(yyyy,mm,dd).strftime('%A')\n",
        "list_daysofweek = []\n",
        "for str_datetime in df3['time']:\n",
        "    substr1   = str_datetime.split('-')\n",
        "    yyyy, mm  = int(substr1[0]), int(substr1[1])\n",
        "    substr2     = substr1[2].split('T')\n",
        "    dd, hh      = int(substr2[0]), int(substr2[1].split(':')[0])\n",
        "    list_daysofweek.append(datetime.date(yyyy,mm,dd).strftime('%A'))\n",
        "\n",
        "df3.insert(0, \"dayofweek\", list_daysofweek, True)\n",
        "df3.head()"
      ]
    },
    {
      "cell_type": "markdown",
      "metadata": {},
      "source": [
        "# Get Forecast - Multi. Location"
      ]
    },
    {
      "cell_type": "code",
      "execution_count": 35,
      "metadata": {},
      "outputs": [],
      "source": [
        "# TODO"
      ]
    },
    {
      "cell_type": "code",
      "execution_count": null,
      "metadata": {},
      "outputs": [],
      "source": []
    }
  ],
  "metadata": {
    "colab": {
      "authorship_tag": "ABX9TyMMtnpjDEtXyymUoC1x9YRc",
      "collapsed_sections": [],
      "include_colab_link": true,
      "provenance": []
    },
    "kernelspec": {
      "display_name": "Python 3",
      "name": "python3"
    },
    "language_info": {
      "codemirror_mode": {
        "name": "ipython",
        "version": 3
      },
      "file_extension": ".py",
      "mimetype": "text/x-python",
      "name": "python",
      "nbconvert_exporter": "python",
      "pygments_lexer": "ipython3",
      "version": "3.10.9"
    }
  },
  "nbformat": 4,
  "nbformat_minor": 0
}
